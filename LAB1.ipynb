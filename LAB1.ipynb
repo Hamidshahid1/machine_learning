{
 "cells": [
  {
   "cell_type": "code",
   "execution_count": 1,
   "metadata": {},
   "outputs": [
    {
     "name": "stdout",
     "output_type": "stream",
     "text": [
      "[[0.0, 5.196152422706632, 10.392304845413264], [5.196152422706632, 0.0, 5.196152422706632], [10.392304845413264, 5.196152422706632, 0.0]]\n"
     ]
    }
   ],
   "source": [
    "sample_1 = [[1, 2, 3], [4, 5, 6], [7, 8, 9]]\n",
    "\n",
    "sample_2 = [[10, 11, 12], [13, 14, 15],[16,17,18]]\n",
    "\n",
    "def distance(list_1, list_2):\n",
    "    \"\"\"Distance between two vectors.\"\"\"\n",
    "    squares = [(p-q) ** 2 for p, q in zip(list_1, list_2)]\n",
    "    return sum(squares) ** .5\n",
    "dimension_2 = []\n",
    "for i in sample_2:\n",
    "    d = [distance(i, j) for j in sample_2]\n",
    "    dimension_2.append(d)\n",
    "\n",
    "\n",
    "print(dimension_2)\n"
   ]
  },
  {
   "cell_type": "code",
   "execution_count": 2,
   "metadata": {},
   "outputs": [
    {
     "name": "stdout",
     "output_type": "stream",
     "text": [
      "[[ 0.          5.19615242 10.39230485]\n",
      " [ 5.19615242  0.          5.19615242]\n",
      " [10.39230485  5.19615242  0.        ]]\n"
     ]
    }
   ],
   "source": [
    "import numpy as np\n",
    "\n",
    "samp_1=np.array([[1, 2, 3], [4, 5, 6], [7, 8, 9]])\n",
    "samp_2=np.array([[10, 11, 12], [13, 14, 15],[16,17,18]])\n",
    "\n",
    "def euclean(list_a,list_b):\n",
    "    return np.array([[ np.linalg.norm(i-j) for j in list_b] for i in list_b])\n",
    "\n",
    "print(euclean(samp_1, samp_2))"
   ]
  },
  {
   "cell_type": "code",
   "execution_count": null,
   "metadata": {},
   "outputs": [
    {
     "name": "stdout",
     "output_type": "stream",
     "text": [
      "32.7 ns ± 3.44 ns per loop (mean ± std. dev. of 7 runs, 10,000,000 loops each)\n"
     ]
    }
   ],
   "source": [
    "%timeit d\n",
    "%timeit euclean(samp_1, samp_2)"
   ]
  },
  {
   "cell_type": "code",
   "execution_count": null,
   "metadata": {},
   "outputs": [],
   "source": []
  }
 ],
 "metadata": {
  "kernelspec": {
   "display_name": "Python 3 (ipykernel)",
   "language": "python",
   "name": "python3"
  },
  "language_info": {
   "codemirror_mode": {
    "name": "ipython",
    "version": 3
   },
   "file_extension": ".py",
   "mimetype": "text/x-python",
   "name": "python",
   "nbconvert_exporter": "python",
   "pygments_lexer": "ipython3",
   "version": "3.9.12"
  },
  "vscode": {
   "interpreter": {
    "hash": "23bf0724a01b6ea9814e66f76182ea78c0ee849a72ca257c0e116bf83bb4960a"
   }
  }
 },
 "nbformat": 4,
 "nbformat_minor": 2
}
