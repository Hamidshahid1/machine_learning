{
  "nbformat": 4,
  "nbformat_minor": 0,
  "metadata": {
    "colab": {
      "provenance": [],
      "collapsed_sections": []
    },
    "kernelspec": {
      "name": "python3",
      "display_name": "Python 3"
    },
    "language_info": {
      "name": "python"
    }
  },
  "cells": [
    {
      "cell_type": "markdown",
      "source": [
        "Exercises\n",
        "\n",
        "**Problem 2.1:**\n",
        "\n",
        "Use Ridge regression to solve the regression problem in Example 2.1 as well as the classification problem in Example 2.2, also implement both closed-form and iterative approachs, compare the results of Ridge regression with those of linear regression.\n",
        "\n",
        "***L2 regularization Redge Regression Using Closed-form approach:***\n"
      ],
      "metadata": {
        "id": "c6u06fgRtNpI"
      }
    },
    {
      "cell_type": "code",
      "execution_count": 1,
      "metadata": {
        "colab": {
          "base_uri": "https://localhost:8080/"
        },
        "id": "g0Uwpjy4tE3v",
        "outputId": "28b61f43-faf6-40a9-cd73-becc170a6500"
      },
      "outputs": [
        {
          "output_type": "stream",
          "name": "stdout",
          "text": [
            "Mounted at /drive\n"
          ]
        }
      ],
      "source": [
        "#link my Google drive\n",
        "\n",
        "from google.colab import drive\n",
        "drive.mount('/drive')"
      ]
    },
    {
      "cell_type": "code",
      "source": [
        "# load Boston House data set\n",
        "import pandas as pd\n",
        "import numpy as np\n",
        "\n",
        "raw_data = pd.read_csv('/drive/My Drive/machine Learning/boston.csv', header=None)\n",
        "data_rows = np.reshape(raw_data.to_numpy(), (506,14))\n",
        "data = data_rows[:,:13]\n",
        "target = data_rows[:,13]\n",
        "\n",
        "# normalize input features to zero-mean and unit-variance\n",
        "data = (data-np.mean(data, axis=0))/np.std(data, axis=0) \n",
        "\n",
        "print(data.shape)\n",
        "print(target.shape)"
      ],
      "metadata": {
        "colab": {
          "base_uri": "https://localhost:8080/"
        },
        "id": "_raqWIuCtK6y",
        "outputId": "82ddcf60-b7ec-41a2-c3f3-0738ad855a10"
      },
      "execution_count": null,
      "outputs": [
        {
          "output_type": "stream",
          "name": "stdout",
          "text": [
            "(506, 13)\n",
            "(506,)\n"
          ]
        }
      ]
    },
    {
      "cell_type": "code",
      "source": [
        "# with alpha=1\n",
        "# add a constant column of '1' to accomodate the bias \n",
        "alpha = 1\n",
        "data_wb = np.hstack((data, np.ones((data.shape[0], 1), dtype=data.dtype)))\n",
        "\n",
        "print(data_wb.shape)\n",
        "n, m = data_wb.shape\n",
        "I = np.identity(m)\n",
        "\n",
        "# refer to the closed-form solution\n",
        "w = np.dot(np.dot(np.linalg.inv(np.dot(data_wb.T, data_wb) + alpha * I), data_wb.T), target)\n",
        "\n",
        "\n",
        "# calculate the mean square error in the training set\n",
        "predict = data_wb @ w \n",
        "# error = (np.sum(((predict - target)**2)/data.shape[0]))+((alpha*w)/data.shape[0])\n",
        "error = (np.sum((predict - target)*(predict - target))/data.shape[0])\n",
        "ERROR=error\n",
        "\n",
        "print(f'mean square error for the closed-form solution: {ERROR:.3f}')"
      ],
      "metadata": {
        "colab": {
          "base_uri": "https://localhost:8080/"
        },
        "id": "7IvWAYJEtTe4",
        "outputId": "9fb2ec49-6f9c-4cbf-9ac4-373a8a69db2d"
      },
      "execution_count": null,
      "outputs": [
        {
          "output_type": "stream",
          "name": "stdout",
          "text": [
            "(506, 14)\n",
            "mean square error for the closed-form solution: 21.898\n"
          ]
        }
      ]
    },
    {
      "cell_type": "code",
      "source": [
        "# with alpha=3\n",
        "# add a constant column of '1' to accomodate the bias \n",
        "alpha = 0.1\n",
        "data_wb = np.hstack((data, np.ones((data.shape[0], 1), dtype=data.dtype)))\n",
        "\n",
        "print(data_wb.shape)\n",
        "n, m = data_wb.shape\n",
        "I = np.identity(m)\n",
        "\n",
        "# refer to the closed-form solution\n",
        "w = np.dot(np.dot(np.linalg.inv(np.dot(data_wb.T, data_wb) + alpha * I), data_wb.T), target)\n",
        "\n",
        "\n",
        "# calculate the mean square error in the training set\n",
        "predict = data_wb @ w \n",
        "# error = (np.sum(((predict - target)**2)/data.shape[0]))+((alpha*w)/data.shape[0])\n",
        "error = (np.sum((predict - target)*(predict - target))/data.shape[0])\n",
        "\n",
        "print(f'mean square error for the closed-form solution: {error:.3f}')"
      ],
      "metadata": {
        "colab": {
          "base_uri": "https://localhost:8080/"
        },
        "id": "GZ01ClwPt3td",
        "outputId": "60afe255-7e67-434a-8cd8-d3e0f2214f4c"
      },
      "execution_count": null,
      "outputs": [
        {
          "output_type": "stream",
          "name": "stdout",
          "text": [
            "(506, 14)\n",
            "mean square error for the closed-form solution: 21.895\n"
          ]
        }
      ]
    },
    {
      "cell_type": "markdown",
      "source": [
        "***Solve Redge regression using gradient descent***\n"
      ],
      "metadata": {
        "id": "VAA5ZoduuNG5"
      }
    },
    {
      "cell_type": "code",
      "source": [
        "# solve Redge regression using gradient descent \n",
        "import numpy as np\n",
        "\n",
        "class Optimizer():\n",
        "  def __init__(self,lr, annealing_rate, batch_size, max_epochs):\n",
        "    self.lr = lr\n",
        "    self.annealing_rate = annealing_rate\n",
        "    self.batch_size = batch_size\n",
        "    self.max_epochs = max_epochs\n",
        "\n",
        "# X[N,d]: input features; y[N]: output targets; op: hyper-parameters for optimzer \n",
        "def redge_regression_gd(X, y, op,alpha):\n",
        "  n = X.shape[0]   # number of samples\n",
        "  w = np.zeros(X.shape[1])  # initialization\n",
        "\n",
        "  lr = op.lr\n",
        "  n, m = data_wb.shape\n",
        "  I = np.identity(m)\n",
        "  errors = np.zeros(op.max_epochs)\n",
        "  for epoch in range(op.max_epochs):\n",
        "    indices = np.random.permutation(n)  #randomly shuffle data indices\n",
        "    for batch_start in range(0, n, op.batch_size):\n",
        "      X_batch = X[indices[batch_start:batch_start + op.batch_size]]\n",
        "      y_batch = y[indices[batch_start:batch_start + op.batch_size]]\n",
        "\n",
        "      # vectorization to compute gradients for a whole mini-batch (see the above formula)\n",
        "      w_grad = np.dot(np.dot(np.linalg.inv(np.dot(X_batch.T, X_batch) + alpha * I), X_batch.T), y_batch )\n",
        "      \n",
        "\n",
        "      w -= lr * w_grad / X_batch.shape[0]\n",
        "\n",
        "    diff = X @ w - y  # prediction difference\n",
        "    errors[epoch] = np.sum(diff*diff)/n\n",
        "    lr *= op.annealing_rate\n",
        "    #print(f'epoch={epoch}: the mean square error is {errors[epoch]}')\n",
        "\n",
        "  return w, errors"
      ],
      "metadata": {
        "id": "DLio_R0NuHE7"
      },
      "execution_count": null,
      "outputs": []
    },
    {
      "cell_type": "code",
      "source": [
        "import matplotlib.pyplot as plt\n",
        "\n",
        "op = Optimizer(lr=0.001, annealing_rate=0.99, batch_size=30, max_epochs=500)\n",
        "alpha=1\n",
        "w, errors = redge_regression_gd(data_wb, target, op,alpha)\n",
        "\n",
        "plt.title('A larger mini-batch; converging smoothly but still a gap')\n",
        "plt.xlabel('number of epoches')\n",
        "plt.plot(errors, 'b', 21.89*np.ones(errors.shape[0]), 'c--')\n",
        "plt.legend(['gradient descent', 'closed-form solution'])"
      ],
      "metadata": {
        "colab": {
          "base_uri": "https://localhost:8080/",
          "height": 312
        },
        "id": "8vN28DNmuaOI",
        "outputId": "5b581069-daf1-4016-b85d-c785d26fdf8e"
      },
      "execution_count": null,
      "outputs": [
        {
          "output_type": "execute_result",
          "data": {
            "text/plain": [
              "<matplotlib.legend.Legend at 0x7f8184ffc5d0>"
            ]
          },
          "metadata": {},
          "execution_count": 22
        },
        {
          "output_type": "display_data",
          "data": {
            "text/plain": [
              "<Figure size 432x288 with 1 Axes>"
            ],
            "image/png": "[encoded data removed]"
          },
          "metadata": {
            "needs_background": "light"
          }
        }
      ]
    },
    {
      "cell_type": "code",
      "source": [
        "import matplotlib.pyplot as plt\n",
        "\n",
        "op = Optimizer(lr=0.001, annealing_rate=0.99, batch_size=2, max_epochs=100)\n",
        "alpha=0.1\n",
        "w, errors = redge_regression_gd(data_wb, target, op,alpha)\n",
        "\n",
        "plt.title('use a small mini-batch; converging quicklly and nicely to the optimum')\n",
        "plt.xlabel('number of epoches')\n",
        "plt.plot(errors, 'b', 21.89*np.ones(errors.shape[0]), 'c--')\n",
        "plt.legend(['gradient descent', 'closed-form solution'])"
      ],
      "metadata": {
        "colab": {
          "base_uri": "https://localhost:8080/",
          "height": 312
        },
        "id": "oqfHj12OukvZ",
        "outputId": "ac645fca-165c-4854-e823-753304bd0fae"
      },
      "execution_count": null,
      "outputs": [
        {
          "output_type": "execute_result",
          "data": {
            "text/plain": [
              "<matplotlib.legend.Legend at 0x7f8185010d10>"
            ]
          },
          "metadata": {},
          "execution_count": 21
        },
        {
          "output_type": "display_data",
          "data": {
            "text/plain": [
              "<Figure size 432x288 with 1 Axes>"
            ],
            "image/png": "[encoded data removed]"
          },
          "metadata": {
            "needs_background": "light"
          }
        }
      ]
    },
    {
      "cell_type": "code",
      "source": [
        "import matplotlib.pyplot as plt\n",
        "\n",
        "op = Optimizer(lr=0.01, annealing_rate=0.99, batch_size=20, max_epochs=100)\n",
        "alpha=0.01\n",
        "w, errors = redge_regression_gd(data_wb, target, op,alpha)\n",
        "\n",
        "plt.title('use a larger learning rate and larger mini-batch, also converging nicely')\n",
        "plt.xlabel('number of epoches')\n",
        "plt.plot(errors, 'b', 21.89*np.ones(errors.shape[0]), 'c--')\n",
        "plt.legend(['gradient descent', 'closed-form solution'])"
      ],
      "metadata": {
        "colab": {
          "base_uri": "https://localhost:8080/",
          "height": 312
        },
        "id": "BBFmtzwVuriL",
        "outputId": "03c71184-1d7d-4b5d-8426-270e25d1fe44"
      },
      "execution_count": null,
      "outputs": [
        {
          "output_type": "execute_result",
          "data": {
            "text/plain": [
              "<matplotlib.legend.Legend at 0x7f818508fb50>"
            ]
          },
          "metadata": {},
          "execution_count": 20
        },
        {
          "output_type": "display_data",
          "data": {
            "text/plain": [
              "<Figure size 432x288 with 1 Axes>"
            ],
            "image/png": "[encoded data removed]"
          },
          "metadata": {
            "needs_background": "light"
          }
        }
      ]
    },
    {
      "cell_type": "markdown",
      "source": [
        "## **LASSO** **REGRESSION** \n",
        "\n",
        "In general, the LASSO lacks a closed form solution because the objective function is not ***differentiable***. However, it is possible to obtain closed form solutions for the special case of an orthonormal design matrix"
      ],
      "metadata": {
        "id": "9iDhI7q_7aUb"
      }
    },
    {
      "cell_type": "code",
      "source": [
        "from sklearn.model_selection import train_test_split\n",
        "\n",
        "X_train, X_test, y_train, y_test = train_test_split(data_wb,target, test_size=0.3, random_state=10)"
      ],
      "metadata": {
        "id": "Cg_Nk6Ti7ZEb"
      },
      "execution_count": null,
      "outputs": []
    },
    {
      "cell_type": "markdown",
      "source": [
        "At Different Alpha Values"
      ],
      "metadata": {
        "id": "fvGE5fNX9HPc"
      }
    },
    {
      "cell_type": "code",
      "source": [
        "#at alpha=1\n",
        "from sklearn.linear_model import Lasso\n",
        "from sklearn.metrics import mean_squared_error\n",
        "reg = Lasso(alpha=1)\n",
        "reg.fit(X_train, y_train)\n",
        "pred_train = reg.predict(X_train)\n",
        "mse_train = mean_squared_error(y_train, pred_train)\n",
        "print('MSE training Dataset', round(mse_train, 4))\n",
        "pred = reg.predict(X_test)\n",
        "mse_test =mean_squared_error(y_test, pred)\n",
        "print('MSE test Dataset', round(mse_test, 4))"
      ],
      "metadata": {
        "colab": {
          "base_uri": "https://localhost:8080/"
        },
        "id": "AAymGbDb8bIR",
        "outputId": "e920621c-d8aa-4218-fc64-c7b0febdc4b5"
      },
      "execution_count": null,
      "outputs": [
        {
          "output_type": "stream",
          "name": "stdout",
          "text": [
            "MSE training Dataset 26.1797\n",
            "MSE test Dataset 34.853\n"
          ]
        }
      ]
    },
    {
      "cell_type": "code",
      "source": [
        "#at alpha=0.1\n",
        "from sklearn.linear_model import Lasso\n",
        "from sklearn.metrics import mean_squared_error\n",
        "reg = Lasso(alpha=0.1)\n",
        "reg.fit(X_train, y_train)\n",
        "pred_train = reg.predict(X_train)\n",
        "mse_train = mean_squared_error(y_train, pred_train)\n",
        "print('MSE training set', round(mse_train, 4))\n",
        "pred = reg.predict(X_test)\n",
        "mse_test =mean_squared_error(y_test, pred)\n",
        "print('MSE test set', round(mse_test, 4))"
      ],
      "metadata": {
        "colab": {
          "base_uri": "https://localhost:8080/"
        },
        "id": "OKnGUOvS8zT3",
        "outputId": "a705bf7f-61dc-4a51-fbbb-7c05fc1da79d"
      },
      "execution_count": null,
      "outputs": [
        {
          "output_type": "stream",
          "name": "stdout",
          "text": [
            "MSE training set 19.94\n",
            "MSE test set 29.25\n"
          ]
        }
      ]
    },
    {
      "cell_type": "markdown",
      "source": [
        "lasso regression having less ERRORS with better alpha"
      ],
      "metadata": {
        "id": "TV6hwh8D96U6"
      }
    },
    {
      "cell_type": "code",
      "source": [
        "#at alpha=0.01\n",
        "from sklearn.linear_model import Lasso\n",
        "from sklearn.metrics import mean_squared_error\n",
        "reg = Lasso(alpha=0.01)\n",
        "reg.fit(X_train, y_train)\n",
        "pred_train = reg.predict(X_train)\n",
        "mse_train = mean_squared_error(y_train, pred_train)\n",
        "print('MSE training set', round(mse_train, 4))\n",
        "pred = reg.predict(X_test)\n",
        "mse_test =mean_squared_error(y_test, pred)\n",
        "print('MSE test set', round(mse_test, 4))"
      ],
      "metadata": {
        "colab": {
          "base_uri": "https://localhost:8080/"
        },
        "id": "2Jokvsxl84gv",
        "outputId": "aab1fb79-2f3a-45dd-e723-21884e7afa1b"
      },
      "execution_count": null,
      "outputs": [
        {
          "output_type": "stream",
          "name": "stdout",
          "text": [
            "MSE training set 19.4649\n",
            "MSE test set 29.2632\n"
          ]
        }
      ]
    },
    {
      "cell_type": "markdown",
      "source": [
        "### **Problem 2.2:**\n",
        "\n",
        "Use LASSO to solve the regression problem in Example 2.1 as well as the classification problem in Example 2.2, compare the results of LASSO with those of linear regression and Ridge regression.\n",
        "\n"
      ],
      "metadata": {
        "id": "EV9neC2ou6zF"
      }
    },
    {
      "cell_type": "code",
      "source": [
        "!pip install python_mnist"
      ],
      "metadata": {
        "colab": {
          "base_uri": "https://localhost:8080/"
        },
        "id": "l7WX76ezu7xh",
        "outputId": "f824f675-3dfd-43d8-e558-66bb50e00ec5"
      },
      "execution_count": 2,
      "outputs": [
        {
          "output_type": "stream",
          "name": "stdout",
          "text": [
            "Looking in indexes: https://pypi.org/simple, https://us-python.pkg.dev/colab-wheels/public/simple/\n",
            "Collecting python_mnist\n",
            "  Downloading python_mnist-0.7-py2.py3-none-any.whl (9.6 kB)\n",
            "Installing collected packages: python-mnist\n",
            "Successfully installed python-mnist-0.7\n"
          ]
        }
      ]
    },
    {
      "cell_type": "code",
      "source": [
        "from mnist import MNIST\n",
        "import numpy as np\n",
        "\n",
        "mnist_loader = MNIST('/drive/My Drive/Colab Notebooks/MNIST')\n",
        "train_data, train_label = mnist_loader.load_training()\n",
        "test_data, test_label = mnist_loader.load_testing()\n",
        "train_data = np.array(train_data, dtype='float')/255 # norm to [0,1]\n",
        "train_label = np.array(train_label, dtype='short')\n",
        "test_data = np.array(test_data, dtype='float')/255 # norm to [0,1]\n",
        "test_label = np.array(test_label, dtype='short')\n",
        "\n",
        "#add small random noise to avoid matrix singularity\n",
        "train_data += np.random.normal(0,0.0001,train_data.shape) \n",
        "\n",
        "print(train_data.shape, train_label.shape, test_data.shape, test_label.shape)"
      ],
      "metadata": {
        "id": "eOGU4Wf_-LY1",
        "colab": {
          "base_uri": "https://localhost:8080/"
        },
        "outputId": "40e1ee66-ed27-4e2a-899e-304e104668c9"
      },
      "execution_count": 3,
      "outputs": [
        {
          "output_type": "stream",
          "name": "stdout",
          "text": [
            "(60000, 784) (60000,) (10000, 784) (10000,)\n"
          ]
        }
      ]
    },
    {
      "cell_type": "code",
      "source": [
        "# prepare digits '3' and '8' for Redge regression\n",
        "\n",
        "digit_train_index = np.logical_or(train_label == 3, train_label == 8)\n",
        "X_train = train_data[digit_train_index]\n",
        "y_train = train_label[digit_train_index]\n",
        "digit_test_index = np.logical_or(test_label == 3, test_label == 8)\n",
        "X_test = test_data[digit_test_index]\n",
        "y_test = test_label[digit_test_index]\n",
        "\n",
        "# add a constant column of '1' to accomodate the bias (see the margin note on page 107)\n",
        "X_train = np.hstack((X_train, np.ones((X_train.shape[0], 1), dtype=X_train.dtype)))\n",
        "X_test = np.hstack((X_test, np.ones((X_test.shape[0], 1), dtype=X_test.dtype)))\n",
        "\n",
        "# convert labels: '3' => -1, '8' => +1\n",
        "CUTOFF = 5 # any number between '3' and '8'\n",
        "y_train = np.sign(y_train-CUTOFF)\n",
        "y_test = np.sign(y_test-CUTOFF)\n",
        "\n",
        "print(X_train.shape)\n",
        "print(y_train)\n",
        "\n",
        "print(X_test.shape)\n",
        "print(y_test)"
      ],
      "metadata": {
        "id": "U4rH-mST-ZyV",
        "colab": {
          "base_uri": "https://localhost:8080/"
        },
        "outputId": "c276acb2-272d-43db-e5e4-0812c72eddb1"
      },
      "execution_count": 4,
      "outputs": [
        {
          "output_type": "stream",
          "name": "stdout",
          "text": [
            "(11982, 785)\n",
            "[-1 -1 -1 ...  1 -1  1]\n",
            "(1984, 785)\n",
            "[-1 -1 -1 ... -1  1 -1]\n"
          ]
        }
      ]
    },
    {
      "cell_type": "markdown",
      "source": [
        "**Redge regression using different alpha values**\n"
      ],
      "metadata": {
        "id": "eSjYD6bYAnSE"
      }
    },
    {
      "cell_type": "code",
      "source": [
        "# use the closed-form solution\n",
        "alpha=1\n",
        "n, m = X_train.shape\n",
        "I = np.identity(m)\n",
        "# refer to the closed-form solution, i.e. Eq.(6.9) on page 112\n",
        "w = np.dot(np.dot(np.linalg.inv(np.dot(X_train.T, X_train) + alpha * I), X_train.T), y_train)\n",
        "\n",
        "# calculate the mean square error and classification accuracy on the training set\n",
        "predict = X_train @ w \n",
        "error = np.sum((predict - y_train)*(predict - y_train))/X_train.shape[0]\n",
        "print(f'mean square error on training data for the closed-form solution: {error:.5f}')\n",
        "\n",
        "accuracy = np.count_nonzero(np.equal(np.sign(predict),y_train))/y_train.size*100.0\n",
        "print(f'classification accuracy on training data for the closed-form solution: {accuracy:.2f}%')\n",
        "\n",
        "# calculate the mean square error and classification accuracy on the test set\n",
        "predict = X_test @ w \n",
        "error = np.sum((predict - y_test)*(predict - y_test))/X_test.shape[0]\n",
        "print(f'mean square error on test data for the closed-form solution: {error:.5f}')\n",
        "\n",
        "accuracy = np.count_nonzero(np.equal(np.sign(predict),y_test))/y_test.size*100.0\n",
        "print(f'classification accuracy on test data for the closed-form solution: {accuracy:.2f}%')"
      ],
      "metadata": {
        "id": "f_cK8Cab-dmJ",
        "colab": {
          "base_uri": "https://localhost:8080/"
        },
        "outputId": "c3dafabb-b7c6-4d6d-f46e-5638ce80bc9d"
      },
      "execution_count": 5,
      "outputs": [
        {
          "output_type": "stream",
          "name": "stdout",
          "text": [
            "mean square error on training data for the closed-form solution: 0.20013\n",
            "classification accuracy on training data for the closed-form solution: 96.79%\n",
            "mean square error on test data for the closed-form solution: 0.22014\n",
            "classification accuracy on test data for the closed-form solution: 96.02%\n"
          ]
        }
      ]
    },
    {
      "cell_type": "code",
      "source": [
        "alpha=0.1\n",
        "n, m = X_train.shape\n",
        "I = np.identity(m)\n",
        "# refer to the closed-form solution, i.e. Eq.(6.9) on page 112\n",
        "w = np.dot(np.dot(np.linalg.inv(np.dot(X_train.T, X_train) + alpha * I), X_train.T), y_train)\n",
        "\n",
        "\n",
        "# calculate the mean square error and classification accuracy on the training set\n",
        "predict = X_train @ w \n",
        "error = np.sum((predict - y_train)*(predict - y_train))/X_train.shape[0]\n",
        "print(f'mean square error on training data for the closed-form solution: {error:.5f}')\n",
        "\n",
        "accuracy = np.count_nonzero(np.equal(np.sign(predict),y_train))/y_train.size*100.0\n",
        "print(f'classification accuracy on training data for the closed-form solution: {accuracy:.2f}%')\n",
        "\n",
        "# calculate the mean square error and classification accuracy on the test set\n",
        "predict = X_test @ w \n",
        "error = np.sum((predict - y_test)*(predict - y_test))/X_test.shape[0]\n",
        "print(f'mean square error on test data for the closed-form solution: {error:.5f}')\n",
        "\n",
        "accuracy = np.count_nonzero(np.equal(np.sign(predict),y_test))/y_test.size*100.0\n",
        "print(f'classification accuracy on test data for the closed-form solution: {accuracy:.2f}%')"
      ],
      "metadata": {
        "id": "HyzUJwdmAY1U",
        "colab": {
          "base_uri": "https://localhost:8080/"
        },
        "outputId": "7210a91f-4d34-46bb-cb8b-989c38386b15"
      },
      "execution_count": 6,
      "outputs": [
        {
          "output_type": "stream",
          "name": "stdout",
          "text": [
            "mean square error on training data for the closed-form solution: 0.19932\n",
            "classification accuracy on training data for the closed-form solution: 96.83%\n",
            "mean square error on test data for the closed-form solution: 0.22396\n",
            "classification accuracy on test data for the closed-form solution: 95.97%\n"
          ]
        }
      ]
    },
    {
      "cell_type": "markdown",
      "source": [
        " **solve Redge regression using gradient descent**"
      ],
      "metadata": {
        "id": "6Nx8pvBvEh7S"
      }
    },
    {
      "cell_type": "code",
      "source": [
        "# solve Redge regression using gradient descent \n",
        "import numpy as np\n",
        "\n",
        "class Optimizer():\n",
        "  def __init__(self, lr, annealing_rate, batch_size, max_epochs,lamda):\n",
        "    self.lr = lr\n",
        "    self.annealing_rate = annealing_rate\n",
        "    self.batch_size = batch_size\n",
        "    self.max_epochs = max_epochs\n",
        "    self.lamda=lamda\n",
        "\n",
        "# X[N,d]: training features; y[N]: training targets; \n",
        "# X2[N,d]: test features; y2[N]: test targets;  \n",
        "# op: hyper-parameters for optimzer \n",
        "#\n",
        "# Note: X2 and y2 are not used in training\n",
        "#       but only for computting the learning curve B\n",
        "#\n",
        "def redge_regression_gd2(X, y, X2, y2, op):\n",
        "  n = X.shape[0]   # number of samples\n",
        "  w = np.zeros(X.shape[1])  # initialization\n",
        "\n",
        "  lr = op.lr\n",
        "  n, m = X_train.shape\n",
        "  I = np.identity(m)\n",
        "  alpha=op.lamda\n",
        "  errorsA = np.zeros(op.max_epochs)\n",
        "  errorsB = np.zeros(op.max_epochs)\n",
        "  errorsC = np.zeros(op.max_epochs)\n",
        "\n",
        "  for epoch in range(op.max_epochs):\n",
        "    indices = np.random.permutation(n)  #randomly shuffle data indices\n",
        "    for batch_start in range(0, n, op.batch_size):\n",
        "      X_batch = X[indices[batch_start:batch_start + op.batch_size]]\n",
        "      y_batch = y[indices[batch_start:batch_start + op.batch_size]]\n",
        "      \n",
        "\n",
        "      # vectorization to compute gradients for a whole mini-batch (see the above formula)\n",
        "    \n",
        "      w_grad = np.dot(np.dot(np.linalg.inv(np.dot(X_batch.T, X_batch) + alpha * I), X_batch.T), y_batch )\n",
        "\n",
        "      w -= lr * w_grad / X_batch.shape[0] \n",
        "\n",
        "    # for learning curve C\n",
        "    diff = X @ w - y  # prediction difference\n",
        "    errorsC[epoch] = np.sum(diff*diff)/n   \n",
        "\n",
        "    # for learning curve A\n",
        "    predict = np.sign(X @ w)\n",
        "    errorsA[epoch] = np.count_nonzero(np.equal(predict,y))/y.size \n",
        "\n",
        "    # for learning curve B\n",
        "    predict2 = np.sign(X2 @ w)\n",
        "    errorsB[epoch] = np.count_nonzero(np.equal(predict2,y2))/y2.size\n",
        "\n",
        "    lr *= op.annealing_rate\n",
        "    print(f'epoch={epoch}: the mean square error is {errorsC[epoch]:.3f} ({errorsA[epoch]:.3f},{errorsB[epoch]:.3f})')\n",
        "\n",
        "  return w, errorsA, errorsB, errorsC"
      ],
      "metadata": {
        "id": "mqkbg4EgEg51"
      },
      "execution_count": 9,
      "outputs": []
    },
    {
      "cell_type": "code",
      "source": [
        "import matplotlib.pyplot as plt\n",
        "\n",
        "op = Optimizer(lr=0.001, annealing_rate=0.99, batch_size=50, max_epochs=20,lamda=1)\n",
        "alpha=1\n",
        "w, A, B, C = redge_regression_gd2(X_train, y_train, X_test, y_test, op)\n",
        "\n",
        "fig, ax = plt.subplots(2)\n",
        "fig.suptitle('monitoring three learning curves (A, B, C)')\n",
        "ax[0].plot(C, 'b', 0.196*np.ones(C.shape[0]), 'c--')\n",
        "ax[0].legend(['curve C', 'closed-form solution'])\n",
        "\n",
        "ax[1].plot(A, 'b', B, 'r')\n",
        "ax[1].legend(['curve A', 'curve B'])"
      ],
      "metadata": {
        "id": "BovJyj0yFD28",
        "colab": {
          "base_uri": "https://localhost:8080/",
          "height": 659
        },
        "outputId": "58cb1ec2-79d4-4c4b-9137-e8b7c153147b"
      },
      "execution_count": 12,
      "outputs": [
        {
          "output_type": "stream",
          "name": "stdout",
          "text": [
            "epoch=0: the mean square error is 1.007 (0.049,0.042)\n",
            "epoch=1: the mean square error is 1.013 (0.049,0.041)\n",
            "epoch=2: the mean square error is 1.020 (0.049,0.040)\n",
            "epoch=3: the mean square error is 1.026 (0.049,0.040)\n",
            "epoch=4: the mean square error is 1.032 (0.049,0.040)\n",
            "epoch=5: the mean square error is 1.039 (0.049,0.040)\n",
            "epoch=6: the mean square error is 1.045 (0.049,0.040)\n",
            "epoch=7: the mean square error is 1.051 (0.049,0.040)\n",
            "epoch=8: the mean square error is 1.058 (0.050,0.040)\n",
            "epoch=9: the mean square error is 1.064 (0.049,0.040)\n",
            "epoch=10: the mean square error is 1.070 (0.049,0.040)\n",
            "epoch=11: the mean square error is 1.076 (0.049,0.040)\n",
            "epoch=12: the mean square error is 1.082 (0.049,0.040)\n",
            "epoch=13: the mean square error is 1.088 (0.049,0.040)\n",
            "epoch=14: the mean square error is 1.094 (0.049,0.040)\n",
            "epoch=15: the mean square error is 1.100 (0.049,0.040)\n",
            "epoch=16: the mean square error is 1.106 (0.049,0.040)\n",
            "epoch=17: the mean square error is 1.112 (0.049,0.040)\n",
            "epoch=18: the mean square error is 1.118 (0.049,0.040)\n",
            "epoch=19: the mean square error is 1.124 (0.049,0.040)\n"
          ]
        },
        {
          "output_type": "execute_result",
          "data": {
            "text/plain": [
              "<matplotlib.legend.Legend at 0x7f3239ddf090>"
            ]
          },
          "metadata": {},
          "execution_count": 12
        },
        {
          "output_type": "display_data",
          "data": {
            "text/plain": [
              "<Figure size 432x288 with 2 Axes>"
            ],
            "image/png": "[encoded data removed]"
          },
          "metadata": {
            "needs_background": "light"
          }
        }
      ]
    },
    {
      "cell_type": "code",
      "source": [
        "import matplotlib.pyplot as plt\n",
        "\n",
        "op = Optimizer(lr=0.001, annealing_rate=0.99, batch_size=50, max_epochs=20,lamda=0.1)\n",
        "alpha=0.1\n",
        "w, A, B, C = redge_regression_gd2(X_train, y_train, X_test, y_test, op)\n",
        "\n",
        "fig, ax = plt.subplots(2)\n",
        "fig.suptitle('monitoring three learning curves (A, B, C)')\n",
        "ax[0].plot(C, 'b', 0.196*np.ones(C.shape[0]), 'c--')\n",
        "ax[0].legend(['curve C', 'closed-form solution'])\n",
        "\n",
        "ax[1].plot(A, 'b', B, 'r')\n",
        "ax[1].legend(['curve A', 'curve B'])"
      ],
      "metadata": {
        "id": "gR8oGqtgGeO6",
        "colab": {
          "base_uri": "https://localhost:8080/",
          "height": 659
        },
        "outputId": "f766fab3-337c-467b-ab79-251ba936fb2c"
      },
      "execution_count": 14,
      "outputs": [
        {
          "output_type": "stream",
          "name": "stdout",
          "text": [
            "epoch=0: the mean square error is 1.007 (0.049,0.040)\n",
            "epoch=1: the mean square error is 1.013 (0.049,0.040)\n",
            "epoch=2: the mean square error is 1.020 (0.049,0.040)\n",
            "epoch=3: the mean square error is 1.026 (0.049,0.040)\n",
            "epoch=4: the mean square error is 1.033 (0.048,0.040)\n",
            "epoch=5: the mean square error is 1.039 (0.049,0.040)\n",
            "epoch=6: the mean square error is 1.046 (0.049,0.039)\n",
            "epoch=7: the mean square error is 1.052 (0.049,0.039)\n",
            "epoch=8: the mean square error is 1.058 (0.049,0.039)\n",
            "epoch=9: the mean square error is 1.065 (0.049,0.039)\n",
            "epoch=10: the mean square error is 1.071 (0.049,0.039)\n",
            "epoch=11: the mean square error is 1.077 (0.049,0.040)\n",
            "epoch=12: the mean square error is 1.083 (0.049,0.040)\n",
            "epoch=13: the mean square error is 1.089 (0.049,0.040)\n",
            "epoch=14: the mean square error is 1.095 (0.049,0.039)\n",
            "epoch=15: the mean square error is 1.102 (0.049,0.040)\n",
            "epoch=16: the mean square error is 1.108 (0.049,0.040)\n",
            "epoch=17: the mean square error is 1.113 (0.049,0.040)\n",
            "epoch=18: the mean square error is 1.119 (0.049,0.040)\n",
            "epoch=19: the mean square error is 1.125 (0.049,0.040)\n"
          ]
        },
        {
          "output_type": "execute_result",
          "data": {
            "text/plain": [
              "<matplotlib.legend.Legend at 0x7f3239843dd0>"
            ]
          },
          "metadata": {},
          "execution_count": 14
        },
        {
          "output_type": "display_data",
          "data": {
            "text/plain": [
              "<Figure size 432x288 with 2 Axes>"
            ],
            "image/png": "[encoded data removed]"
          },
          "metadata": {
            "needs_background": "light"
          }
        }
      ]
    },
    {
      "cell_type": "markdown",
      "source": [
        "**LASSO REGRESSION**"
      ],
      "metadata": {
        "id": "VKNt75nnGphW"
      }
    },
    {
      "cell_type": "code",
      "source": [
        "from sklearn.linear_model import Lasso\n",
        "from sklearn.metrics import mean_squared_error\n",
        "reg = Lasso(alpha=1)\n",
        "reg.fit(X_train, y_train)\n",
        "pred_train = reg.predict(X_train)\n",
        "mse_train = mean_squared_error(y_train, pred_train)\n",
        "print('MSE training Dataset', round(mse_train, 4))\n",
        "pred = reg.predict(X_test)\n",
        "mse_test =mean_squared_error(y_test, pred)\n",
        "print('MSE test Dataset', round(mse_test, 4))"
      ],
      "metadata": {
        "id": "Cqn-jlaSGgQU",
        "colab": {
          "base_uri": "https://localhost:8080/"
        },
        "outputId": "db83f9b2-1631-428a-f583-e13b83093be6"
      },
      "execution_count": 15,
      "outputs": [
        {
          "output_type": "stream",
          "name": "stdout",
          "text": [
            "MSE training Dataset 0.9995\n",
            "MSE test Dataset 0.9997\n"
          ]
        }
      ]
    },
    {
      "cell_type": "code",
      "source": [
        "from sklearn.linear_model import Lasso\n",
        "from sklearn.metrics import mean_squared_error\n",
        "reg = Lasso(alpha=0.1)\n",
        "reg.fit(X_train, y_train)\n",
        "pred_train = reg.predict(X_train)\n",
        "mse_train = mean_squared_error(y_train, pred_train)\n",
        "print('MSE training Dataset', round(mse_train, 4))\n",
        "pred = reg.predict(X_test)\n",
        "mse_test =mean_squared_error(y_test, pred)\n",
        "print('MSE test Dataset', round(mse_test, 4))"
      ],
      "metadata": {
        "id": "Vh6b-DGOG1tn",
        "colab": {
          "base_uri": "https://localhost:8080/"
        },
        "outputId": "8b9e4c42-6c0f-4f07-cc3e-7ac0b509d23c"
      },
      "execution_count": 18,
      "outputs": [
        {
          "output_type": "stream",
          "name": "stdout",
          "text": [
            "MSE training Dataset 0.4897\n",
            "MSE test Dataset 0.4902\n"
          ]
        }
      ]
    },
    {
      "cell_type": "code",
      "source": [],
      "metadata": {
        "id": "hpiDoNOfGgNe"
      },
      "execution_count": null,
      "outputs": []
    }
  ]
}